{
 "cells": [
  {
   "cell_type": "code",
   "execution_count": 1,
   "metadata": {},
   "outputs": [],
   "source": [
    "from tqdm import tqdm\n",
    "import numpy as np\n",
    "import torch\n",
    "import torch.nn as nn\n",
    "import torch.optim as optim\n",
    "import torch.utils.data as data\n",
    "import torchvision.transforms as transforms\n",
    "import os\n",
    "import matplotlib.pyplot as plt\n",
    "\n",
    "from ResNet.ResNet3D import ResNet3D\n",
    "from medmnist import OrganMNIST3D, Evaluator"
   ]
  },
  {
   "cell_type": "code",
   "execution_count": 2,
   "metadata": {},
   "outputs": [
    {
     "name": "stdout",
     "output_type": "stream",
     "text": [
      "Using downloaded and verified file: C:\\Users\\marga\\.medmnist\\organmnist3d_64.npz\n",
      "Using downloaded and verified file: C:\\Users\\marga\\.medmnist\\organmnist3d_64.npz\n",
      "Using downloaded and verified file: C:\\Users\\marga\\.medmnist\\organmnist3d_64.npz\n",
      "(1, 64, 64, 64) (1,)\n"
     ]
    }
   ],
   "source": [
    "# Load data\n",
    "# preprocessing\n",
    "data_transform = transforms.Compose([\n",
    "    transforms.ToTensor(),\n",
    "    transforms.Normalize(mean=[.5], std=[.5])\n",
    "])\n",
    "\n",
    "#Load data\n",
    "train_dataset = OrganMNIST3D(split='train', download=True, size=64)\n",
    "val_dataset = OrganMNIST3D(split='val', download=True, size=64)\n",
    "test_dataset = OrganMNIST3D(split='test', download=True, size=64)\n",
    "train_loader = data.DataLoader(dataset=train_dataset, batch_size=64, shuffle=True)\n",
    "val_loader = data.DataLoader(dataset=val_dataset, batch_size=64, shuffle=False)\n",
    "test_loader = data.DataLoader(dataset=test_dataset, batch_size=64, shuffle=False)\n",
    "\n",
    "\n",
    "\n",
    "num_classes = 11\n",
    "#Alternatively load random\n",
    "# train_data = torch.randn(1000, 3, 224, 224)  # 1000 random images\n",
    "# train_labels = torch.randint(0, num_classes, (1000,))  # 1000 random labels\n",
    "# train_dataset = torch.utils.data.TensorDataset(train_data, train_labels)\n",
    "# train_loader = torch.utils.data.DataLoader(train_dataset, batch_size=64, shuffle=True)\n",
    "\n",
    "print(train_dataset[0][0].shape, train_dataset[0][1].shape)"
   ]
  },
  {
   "cell_type": "code",
   "execution_count": 3,
   "metadata": {},
   "outputs": [
    {
     "name": "stdout",
     "output_type": "stream",
     "text": [
      "Using: cuda\n",
      "Created folder: models\\ResNet3D3463\n"
     ]
    }
   ],
   "source": [
    "#Load model\n",
    "\n",
    "device = torch.device('cuda' if torch.cuda.is_available() else 'cpu')\n",
    "print(f'Using: {device}')\n",
    "\n",
    "models_folder = \"models\"\n",
    "model_name = \"ResNet3D3463\"\n",
    "\n",
    "model_folder = os.path.join(models_folder, model_name)\n",
    "if not os.path.exists(model_folder):\n",
    "    os.makedirs(model_folder)\n",
    "    print(f\"Created folder: {model_folder}\")\n",
    "else:\n",
    "    print(f\"Folder already exists: {model_folder}\")\n",
    "\n",
    "model = ResNet3D([3, 4, 6, 3], num_classes, input_channels=1)\n",
    "model = model.to(device)\n",
    "loss_fn = nn.CrossEntropyLoss()\n",
    "optimizer = optim.SGD(model.parameters(), lr=0.001, momentum=0.9)\n",
    "epochs = 50"
   ]
  },
  {
   "cell_type": "code",
   "execution_count": 6,
   "metadata": {},
   "outputs": [
    {
     "name": "stdout",
     "output_type": "stream",
     "text": [
      "Epoch 1 of 50\n"
     ]
    },
    {
     "name": "stderr",
     "output_type": "stream",
     "text": [
      "                                                                                    \r"
     ]
    },
    {
     "name": "stdout",
     "output_type": "stream",
     "text": [
      "Epoch 1: Train Loss = 0.9941, Train Acc = 72.09%, Val Loss = 2.8265, Val Acc = 19.88%\n",
      "Epoch 2 of 50\n"
     ]
    },
    {
     "name": "stderr",
     "output_type": "stream",
     "text": [
      "                                                                                    \r"
     ]
    },
    {
     "name": "stdout",
     "output_type": "stream",
     "text": [
      "Epoch 2: Train Loss = 0.4516, Train Acc = 87.64%, Val Loss = 0.6516, Val Acc = 83.85%\n",
      "Epoch 3 of 50\n"
     ]
    },
    {
     "name": "stderr",
     "output_type": "stream",
     "text": [
      "                                                                                    \r"
     ]
    },
    {
     "name": "stdout",
     "output_type": "stream",
     "text": [
      "Epoch 3: Train Loss = 0.3429, Train Acc = 89.80%, Val Loss = 0.5854, Val Acc = 83.23%\n",
      "Epoch 4 of 50\n"
     ]
    },
    {
     "name": "stderr",
     "output_type": "stream",
     "text": [
      "                                                                                    \r"
     ]
    },
    {
     "name": "stdout",
     "output_type": "stream",
     "text": [
      "Epoch 4: Train Loss = 0.1715, Train Acc = 94.54%, Val Loss = 0.1425, Val Acc = 96.89%\n",
      "Epoch 5 of 50\n"
     ]
    },
    {
     "name": "stderr",
     "output_type": "stream",
     "text": [
      "                                                                                    \r"
     ]
    },
    {
     "name": "stdout",
     "output_type": "stream",
     "text": [
      "Epoch 5: Train Loss = 0.1140, Train Acc = 96.19%, Val Loss = 0.1380, Val Acc = 96.27%\n",
      "Epoch 6 of 50\n"
     ]
    },
    {
     "name": "stderr",
     "output_type": "stream",
     "text": [
      "                                                                                    \r"
     ]
    },
    {
     "name": "stdout",
     "output_type": "stream",
     "text": [
      "Epoch 6: Train Loss = 0.0515, Train Acc = 98.66%, Val Loss = 0.0363, Val Acc = 99.38%\n",
      "Epoch 7 of 50\n"
     ]
    },
    {
     "name": "stderr",
     "output_type": "stream",
     "text": [
      "                                                                                    \r"
     ]
    },
    {
     "name": "stdout",
     "output_type": "stream",
     "text": [
      "Epoch 7: Train Loss = 0.0203, Train Acc = 99.69%, Val Loss = 0.0304, Val Acc = 99.38%\n",
      "Epoch 8 of 50\n"
     ]
    },
    {
     "name": "stderr",
     "output_type": "stream",
     "text": [
      "                                                                                    \r"
     ]
    },
    {
     "name": "stdout",
     "output_type": "stream",
     "text": [
      "Epoch 8: Train Loss = 0.0104, Train Acc = 99.79%, Val Loss = 0.0297, Val Acc = 99.38%\n",
      "Epoch 9 of 50\n"
     ]
    },
    {
     "name": "stderr",
     "output_type": "stream",
     "text": [
      "                                                                                     \r"
     ]
    },
    {
     "name": "stdout",
     "output_type": "stream",
     "text": [
      "Epoch 9: Train Loss = 0.0118, Train Acc = 99.79%, Val Loss = 0.0318, Val Acc = 98.76%\n",
      "Epoch 10 of 50\n"
     ]
    },
    {
     "name": "stderr",
     "output_type": "stream",
     "text": [
      "                                                                                    \r"
     ]
    },
    {
     "name": "stdout",
     "output_type": "stream",
     "text": [
      "Epoch 10: Train Loss = 0.0081, Train Acc = 99.79%, Val Loss = 0.0343, Val Acc = 99.38%\n",
      "Epoch 11 of 50\n"
     ]
    },
    {
     "name": "stderr",
     "output_type": "stream",
     "text": [
      "                                                                                    \r"
     ]
    },
    {
     "name": "stdout",
     "output_type": "stream",
     "text": [
      "Epoch 11: Train Loss = 0.0099, Train Acc = 99.79%, Val Loss = 0.0401, Val Acc = 98.76%\n",
      "Early stopping triggered after epoch 11\n",
      "Training finished.\n"
     ]
    },
    {
     "data": {
      "image/png": "[encoded data removed]",
      "text/plain": [
       "<Figure size 1000x600 with 1 Axes>"
      ]
     },
     "metadata": {},
     "output_type": "display_data"
    }
   ],
   "source": [
    "#Train\n",
    "\n",
    "best_val_loss = float('inf')\n",
    "best_val_acc = 0\n",
    "counter = 0\n",
    "early_stop_threshold = 3\n",
    "train_losses = []\n",
    "train_accuracies = []\n",
    "val_losses = []\n",
    "val_accuracies = []\n",
    "\n",
    "for epoch in range(epochs):\n",
    "    print(\"Epoch \" + str(epoch+1) + \" of \" + str(epochs))\n",
    "    epoch_losses = []\n",
    "    model.train()\n",
    "    correct = 0\n",
    "    total = 0\n",
    "    progress_bar = tqdm(train_loader, leave=False)\n",
    "    for inputs, targets in progress_bar:\n",
    "        inputs = inputs.to(device).float()\n",
    "        targets = targets.to(device)\n",
    "        optimizer.zero_grad()\n",
    "        outputs = model(inputs)\n",
    "        # print(outputs.shape, targets.shape)\n",
    "        loss = loss_fn(outputs, targets.squeeze())\n",
    "        epoch_losses.append(loss.item())\n",
    "        loss.backward()\n",
    "        optimizer.step()\n",
    "\n",
    "        # Calculate accuracy\n",
    "        _, predicted = torch.max(outputs.data, 1)\n",
    "        total += targets.size(0)\n",
    "        correct += (predicted == targets.squeeze()).sum().item()\n",
    "        \n",
    "        # Update progress bar\n",
    "        avg_loss = sum(epoch_losses)/len(epoch_losses)\n",
    "        train_acc = 100 * correct / total\n",
    "        progress_bar.set_postfix(\n",
    "            train_loss=f'{avg_loss:.4f}',\n",
    "            train_acc=f'{train_acc:.2f}%'\n",
    "        )\n",
    "    \n",
    "    train_losses.append(avg_loss)\n",
    "    train_accuracies.append(train_acc)\n",
    "\n",
    "    # Validation phase\n",
    "    model.eval()\n",
    "    val_epoch_losses = []\n",
    "    correct = 0\n",
    "    total = 0\n",
    "    with torch.no_grad():\n",
    "        for inputs, targets in val_loader:\n",
    "            inputs, targets = inputs.to(device).float(), targets.to(device)\n",
    "            outputs = model(inputs)\n",
    "            val_loss = loss_fn(outputs, targets.squeeze())\n",
    "            val_epoch_losses.append(val_loss.item())\n",
    "            \n",
    "            # Calculate accuracy\n",
    "            _, predicted = torch.max(outputs.data, 1)\n",
    "            total += targets.size(0)\n",
    "            correct += (predicted == targets.squeeze()).sum().item()\n",
    "    \n",
    "    avg_val_loss = sum(val_epoch_losses)/len(val_epoch_losses)\n",
    "    val_acc = 100 * correct / total\n",
    "    val_losses.append(avg_val_loss)\n",
    "    val_accuracies.append(val_acc)\n",
    "    \n",
    "    print(f\"Epoch {epoch + 1}: \"\n",
    "          f\"Train Loss = {avg_loss:.4f}, Train Acc = {train_acc:.2f}%, \"\n",
    "          f\"Val Loss = {avg_val_loss:.4f}, Val Acc = {val_acc:.2f}%\")\n",
    "    \n",
    "    # Early stopping check (now using both loss and accuracy)\n",
    "    if avg_val_loss < best_val_loss and val_acc >= best_val_acc:\n",
    "        best_val_loss = avg_val_loss\n",
    "        best_val_acc = val_acc\n",
    "        counter = 0\n",
    "\n",
    "        torch.save({\n",
    "            'epoch': epoch,\n",
    "            'model_state_dict': model.state_dict(),\n",
    "            'optimizer_state_dict': optimizer.state_dict(),\n",
    "            'train_loss': avg_loss,\n",
    "            'val_loss': avg_val_loss,\n",
    "            'train_acc': train_acc,\n",
    "            'val_acc': val_acc,\n",
    "        }, f'models/{model_name}/best_model.pth')\n",
    "    else:\n",
    "        counter += 1\n",
    "        if counter >= early_stop_threshold:\n",
    "            print(f'Early stopping triggered after epoch {epoch + 1}')\n",
    "            break\n",
    "\n",
    "print(\"Training finished.\")\n",
    "\n",
    "\n",
    "# Plot training and validation losses\n",
    "plt.figure(figsize=(10,6))\n",
    "plt.plot(train_losses, label='Training Loss')\n",
    "plt.plot(val_losses, label='Validation Loss')\n",
    "plt.xlabel('Epoch')\n",
    "plt.ylabel('Loss')\n",
    "plt.title('Training and Validation Losses')\n",
    "plt.legend()\n",
    "plt.show()"
   ]
  },
  {
   "cell_type": "code",
   "execution_count": 7,
   "metadata": {},
   "outputs": [
    {
     "name": "stdout",
     "output_type": "stream",
     "text": [
      "Test accuracy: 88.52\n"
     ]
    }
   ],
   "source": [
    "# eval\n",
    "\n",
    "\n",
    "def test(data_loader):\n",
    "    model.eval()\n",
    "\n",
    "    correct = 0\n",
    "    total = 0\n",
    "\n",
    "    with torch.no_grad():\n",
    "        for inputs, targets in data_loader:\n",
    "            inputs = inputs.to(device).float()\n",
    "            targets = targets.to(device)\n",
    "            targets = targets.squeeze()\n",
    "            outputs = model(inputs)\n",
    "            _, predictions = torch.max(outputs.data, 1)\n",
    "            total += targets.size(0)\n",
    "            correct += (predictions == targets).sum().item()\n",
    "\n",
    "    return 100 * correct / total\n",
    "\n",
    "print(f\"Test accuracy: {test(test_loader):.2f}\")\n",
    "\n"
   ]
  }
 ],
 "metadata": {
  "kernelspec": {
   "display_name": "venv",
   "language": "python",
   "name": "python3"
  },
  "language_info": {
   "codemirror_mode": {
    "name": "ipython",
    "version": 3
   },
   "file_extension": ".py",
   "mimetype": "text/x-python",
   "name": "python",
   "nbconvert_exporter": "python",
   "pygments_lexer": "ipython3",
   "version": "3.11.9"
  }
 },
 "nbformat": 4,
 "nbformat_minor": 2
}

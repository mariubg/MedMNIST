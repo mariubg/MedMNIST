{
 "cells": [
  {
   "cell_type": "code",
   "execution_count": 1,
   "metadata": {},
   "outputs": [],
   "source": [
    "from tqdm import tqdm\n",
    "import numpy as np\n",
    "import torch\n",
    "import torch.nn as nn\n",
    "import torch.optim as optim\n",
    "import torch.utils.data as data\n",
    "import torchvision.transforms as transforms\n",
    "import os\n",
    "import matplotlib.pyplot as plt\n",
    "\n",
    "from ResNet.ResNet import ResNet\n",
    "from medmnist import PathMNIST, Evaluator"
   ]
  },
  {
   "cell_type": "code",
   "execution_count": 2,
   "metadata": {},
   "outputs": [
    {
     "name": "stdout",
     "output_type": "stream",
     "text": [
      "Using downloaded and verified file: C:\\Users\\marga\\.medmnist\\pathmnist_224.npz\n",
      "Using downloaded and verified file: C:\\Users\\marga\\.medmnist\\pathmnist_224.npz\n",
      "torch.Size([3, 224, 224]) (1,)\n"
     ]
    }
   ],
   "source": [
    "# Load data\n",
    "# preprocessing\n",
    "data_transform = transforms.Compose([\n",
    "    transforms.ToTensor(),\n",
    "    transforms.Normalize(mean=[.5], std=[.5])\n",
    "])\n",
    "\n",
    "#Load data\n",
    "train_dataset = PathMNIST(split='train', transform=data_transform, download=True, size=224, mmap_mode='r')\n",
    "val_dataset = PathMNIST(split='val', transform=data_transform, download=True, size=224, mmap_mode='r')\n",
    "train_loader = data.DataLoader(dataset=train_dataset, batch_size=64, shuffle=True)\n",
    "val_loader = data.DataLoader(dataset=val_dataset, batch_size=64, shuffle=False)\n",
    "\n",
    "\n",
    "num_classes = 9\n",
    "#Alternatively load random\n",
    "# train_data = torch.randn(1000, 3, 224, 224)  # 1000 random images\n",
    "# train_labels = torch.randint(0, num_classes, (1000,))  # 1000 random labels\n",
    "# train_dataset = torch.utils.data.TensorDataset(train_data, train_labels)\n",
    "# train_loader = torch.utils.data.DataLoader(train_dataset, batch_size=64, shuffle=True)\n",
    "\n",
    "print(train_dataset[0][0].shape, train_dataset[0][1].shape)"
   ]
  },
  {
   "cell_type": "code",
   "execution_count": 12,
   "metadata": {},
   "outputs": [
    {
     "name": "stdout",
     "output_type": "stream",
     "text": [
      "Using: cuda\n",
      "Folder already exists: models\\ResNet3463\n"
     ]
    }
   ],
   "source": [
    "#Load model\n",
    "\n",
    "device = torch.device('cuda' if torch.cuda.is_available() else 'cpu')\n",
    "print(f'Using: {device}')\n",
    "\n",
    "models_folder = \"models\"\n",
    "model_name = \"ResNet3463\"\n",
    "\n",
    "model_folder = os.path.join(models_folder, model_name)\n",
    "if not os.path.exists(model_folder):\n",
    "    os.makedirs(model_folder)\n",
    "    print(f\"Created folder: {model_folder}\")\n",
    "else:\n",
    "    print(f\"Folder already exists: {model_folder}\")\n",
    "\n",
    "model = ResNet([3, 4, 6, 3], num_classes)\n",
    "model = model.to(device)\n",
    "loss_fn = nn.CrossEntropyLoss()\n",
    "optimizer = optim.SGD(model.parameters(), lr=0.001, momentum=0.9)\n",
    "epochs = 50"
   ]
  },
  {
   "cell_type": "code",
   "execution_count": 13,
   "metadata": {},
   "outputs": [
    {
     "name": "stdout",
     "output_type": "stream",
     "text": [
      "Epoch 1 of 50\n"
     ]
    },
    {
     "name": "stderr",
     "output_type": "stream",
     "text": [
      "                                                                                        \r"
     ]
    },
    {
     "name": "stdout",
     "output_type": "stream",
     "text": [
      "Epoch 1: Train Loss = 0.4007, Train Acc = 85.94%, Val Loss = 0.2583, Val Acc = 91.36%\n",
      "Epoch 2 of 50\n"
     ]
    },
    {
     "name": "stderr",
     "output_type": "stream",
     "text": [
      "                                                                                        \r"
     ]
    },
    {
     "name": "stdout",
     "output_type": "stream",
     "text": [
      "Epoch 2: Train Loss = 0.1348, Train Acc = 95.49%, Val Loss = 0.1062, Val Acc = 96.29%\n",
      "Epoch 3 of 50\n"
     ]
    },
    {
     "name": "stderr",
     "output_type": "stream",
     "text": [
      "                                                                                        \r"
     ]
    },
    {
     "name": "stdout",
     "output_type": "stream",
     "text": [
      "Epoch 3: Train Loss = 0.0875, Train Acc = 97.11%, Val Loss = 0.0851, Val Acc = 97.20%\n",
      "Epoch 4 of 50\n"
     ]
    },
    {
     "name": "stderr",
     "output_type": "stream",
     "text": [
      "                                                                                        \r"
     ]
    },
    {
     "name": "stdout",
     "output_type": "stream",
     "text": [
      "Epoch 4: Train Loss = 0.0622, Train Acc = 97.95%, Val Loss = 0.0791, Val Acc = 97.52%\n",
      "Epoch 5 of 50\n"
     ]
    },
    {
     "name": "stderr",
     "output_type": "stream",
     "text": [
      "                                                                                        \r"
     ]
    },
    {
     "name": "stdout",
     "output_type": "stream",
     "text": [
      "Epoch 5: Train Loss = 0.0516, Train Acc = 98.25%, Val Loss = 0.0609, Val Acc = 98.04%\n",
      "Epoch 6 of 50\n"
     ]
    },
    {
     "name": "stderr",
     "output_type": "stream",
     "text": [
      "                                                                                        \r"
     ]
    },
    {
     "name": "stdout",
     "output_type": "stream",
     "text": [
      "Epoch 6: Train Loss = 0.0424, Train Acc = 98.58%, Val Loss = 0.0759, Val Acc = 97.47%\n",
      "Epoch 7 of 50\n"
     ]
    },
    {
     "name": "stderr",
     "output_type": "stream",
     "text": [
      "                                                                                        \r"
     ]
    },
    {
     "name": "stdout",
     "output_type": "stream",
     "text": [
      "Epoch 7: Train Loss = 0.0369, Train Acc = 98.77%, Val Loss = 0.0594, Val Acc = 98.29%\n",
      "Epoch 8 of 50\n"
     ]
    },
    {
     "name": "stderr",
     "output_type": "stream",
     "text": [
      "                                                                                        \r"
     ]
    },
    {
     "name": "stdout",
     "output_type": "stream",
     "text": [
      "Epoch 8: Train Loss = 0.0290, Train Acc = 99.04%, Val Loss = 0.0666, Val Acc = 97.82%\n",
      "Epoch 9 of 50\n"
     ]
    },
    {
     "name": "stderr",
     "output_type": "stream",
     "text": [
      "                                                                                        \r"
     ]
    },
    {
     "name": "stdout",
     "output_type": "stream",
     "text": [
      "Epoch 9: Train Loss = 0.0242, Train Acc = 99.20%, Val Loss = 0.0321, Val Acc = 99.05%\n",
      "Epoch 10 of 50\n"
     ]
    },
    {
     "name": "stderr",
     "output_type": "stream",
     "text": [
      "                                                                                        \r"
     ]
    },
    {
     "name": "stdout",
     "output_type": "stream",
     "text": [
      "Epoch 10: Train Loss = 0.0191, Train Acc = 99.34%, Val Loss = 0.0303, Val Acc = 99.10%\n",
      "Epoch 11 of 50\n"
     ]
    },
    {
     "name": "stderr",
     "output_type": "stream",
     "text": [
      "                                                                                        \r"
     ]
    },
    {
     "name": "stdout",
     "output_type": "stream",
     "text": [
      "Epoch 11: Train Loss = 0.0139, Train Acc = 99.56%, Val Loss = 0.0612, Val Acc = 98.32%\n",
      "Epoch 12 of 50\n"
     ]
    },
    {
     "name": "stderr",
     "output_type": "stream",
     "text": [
      "                                                                                        \r"
     ]
    },
    {
     "name": "stdout",
     "output_type": "stream",
     "text": [
      "Epoch 12: Train Loss = 0.0124, Train Acc = 99.60%, Val Loss = 0.0421, Val Acc = 98.74%\n",
      "Epoch 13 of 50\n"
     ]
    },
    {
     "name": "stderr",
     "output_type": "stream",
     "text": [
      "                                                                                        \r"
     ]
    },
    {
     "name": "stdout",
     "output_type": "stream",
     "text": [
      "Epoch 13: Train Loss = 0.0127, Train Acc = 99.57%, Val Loss = 0.0258, Val Acc = 99.19%\n",
      "Epoch 14 of 50\n"
     ]
    },
    {
     "name": "stderr",
     "output_type": "stream",
     "text": [
      "                                                                                        \r"
     ]
    },
    {
     "name": "stdout",
     "output_type": "stream",
     "text": [
      "Epoch 14: Train Loss = 0.0129, Train Acc = 99.57%, Val Loss = 0.0427, Val Acc = 98.88%\n",
      "Epoch 15 of 50\n"
     ]
    },
    {
     "name": "stderr",
     "output_type": "stream",
     "text": [
      "                                                                                        \r"
     ]
    },
    {
     "name": "stdout",
     "output_type": "stream",
     "text": [
      "Epoch 15: Train Loss = 0.0091, Train Acc = 99.71%, Val Loss = 0.0260, Val Acc = 99.32%\n",
      "Epoch 16 of 50\n"
     ]
    },
    {
     "name": "stderr",
     "output_type": "stream",
     "text": [
      "                                                                                        \r"
     ]
    },
    {
     "name": "stdout",
     "output_type": "stream",
     "text": [
      "Epoch 16: Train Loss = 0.0083, Train Acc = 99.75%, Val Loss = 0.0286, Val Acc = 99.14%\n",
      "Early stopping triggered after epoch 16\n",
      "Training finished.\n"
     ]
    },
    {
     "data": {
      "image/png": "[encoded data removed]",
      "text/plain": [
       "<Figure size 1000x600 with 1 Axes>"
      ]
     },
     "metadata": {},
     "output_type": "display_data"
    }
   ],
   "source": [
    "#Train\n",
    "\n",
    "best_val_loss = float('inf')\n",
    "best_val_acc = 0\n",
    "counter = 0\n",
    "early_stop_threshold = 3\n",
    "train_losses = []\n",
    "train_accuracies = []\n",
    "val_losses = []\n",
    "val_accuracies = []\n",
    "\n",
    "for epoch in range(epochs):\n",
    "    print(\"Epoch \" + str(epoch+1) + \" of \" + str(epochs))\n",
    "    epoch_losses = []\n",
    "    model.train()\n",
    "    correct = 0\n",
    "    total = 0\n",
    "    progress_bar = tqdm(train_loader, leave=False)\n",
    "    for inputs, targets in progress_bar:\n",
    "        inputs = inputs.to(device)\n",
    "        targets = targets.to(device)\n",
    "        optimizer.zero_grad()\n",
    "        outputs = model(inputs)\n",
    "        # print(outputs.shape, targets.shape)\n",
    "        loss = loss_fn(outputs, targets.squeeze())\n",
    "        epoch_losses.append(loss.item())\n",
    "        loss.backward()\n",
    "        optimizer.step()\n",
    "\n",
    "        # Calculate accuracy\n",
    "        _, predicted = torch.max(outputs.data, 1)\n",
    "        total += targets.size(0)\n",
    "        correct += (predicted == targets.squeeze()).sum().item()\n",
    "        \n",
    "        # Update progress bar\n",
    "        avg_loss = sum(epoch_losses)/len(epoch_losses)\n",
    "        train_acc = 100 * correct / total\n",
    "        progress_bar.set_postfix(\n",
    "            train_loss=f'{avg_loss:.4f}',\n",
    "            train_acc=f'{train_acc:.2f}%'\n",
    "        )\n",
    "    \n",
    "    train_losses.append(avg_loss)\n",
    "    train_accuracies.append(train_acc)\n",
    "\n",
    "    # Validation phase\n",
    "    model.eval()\n",
    "    val_epoch_losses = []\n",
    "    correct = 0\n",
    "    total = 0\n",
    "    with torch.no_grad():\n",
    "        for inputs, targets in val_loader:\n",
    "            inputs, targets = inputs.to(device), targets.to(device)\n",
    "            outputs = model(inputs)\n",
    "            val_loss = loss_fn(outputs, targets.squeeze())\n",
    "            val_epoch_losses.append(val_loss.item())\n",
    "            \n",
    "            # Calculate accuracy\n",
    "            _, predicted = torch.max(outputs.data, 1)\n",
    "            total += targets.size(0)\n",
    "            correct += (predicted == targets.squeeze()).sum().item()\n",
    "    \n",
    "    avg_val_loss = sum(val_epoch_losses)/len(val_epoch_losses)\n",
    "    val_acc = 100 * correct / total\n",
    "    val_losses.append(avg_val_loss)\n",
    "    val_accuracies.append(val_acc)\n",
    "    \n",
    "    print(f\"Epoch {epoch + 1}: \"\n",
    "          f\"Train Loss = {avg_loss:.4f}, Train Acc = {train_acc:.2f}%, \"\n",
    "          f\"Val Loss = {avg_val_loss:.4f}, Val Acc = {val_acc:.2f}%\")\n",
    "    \n",
    "    # Early stopping check (now using both loss and accuracy)\n",
    "    if avg_val_loss < best_val_loss and val_acc >= best_val_acc:\n",
    "        best_val_loss = avg_val_loss\n",
    "        best_val_acc = val_acc\n",
    "        counter = 0\n",
    "\n",
    "        torch.save({\n",
    "            'epoch': epoch,\n",
    "            'model_state_dict': model.state_dict(),\n",
    "            'optimizer_state_dict': optimizer.state_dict(),\n",
    "            'train_loss': avg_loss,\n",
    "            'val_loss': avg_val_loss,\n",
    "            'train_acc': train_acc,\n",
    "            'val_acc': val_acc,\n",
    "        }, f'models/{model_name}/best_model.pth')\n",
    "    else:\n",
    "        counter += 1\n",
    "        if counter >= early_stop_threshold:\n",
    "            print(f'Early stopping triggered after epoch {epoch + 1}')\n",
    "            break\n",
    "\n",
    "print(\"Training finished.\")\n",
    "\n",
    "\n",
    "# Plot training and validation losses\n",
    "plt.figure(figsize=(10,6))\n",
    "plt.plot(train_losses, label='Training Loss')\n",
    "plt.plot(val_losses, label='Validation Loss')\n",
    "plt.xlabel('Epoch')\n",
    "plt.ylabel('Loss')\n",
    "plt.title('Training and Validation Losses')\n",
    "plt.legend()\n",
    "plt.show()"
   ]
  },
  {
   "cell_type": "code",
   "execution_count": 40,
   "metadata": {},
   "outputs": [
    {
     "name": "stdout",
     "output_type": "stream",
     "text": [
      "Using downloaded and verified file: C:\\Users\\marga\\.medmnist\\pathmnist_224.npz\n",
      "Test accuracy: 90.53\n"
     ]
    }
   ],
   "source": [
    "# eval\n",
    "\n",
    "test_dataset = PathMNIST(split='test', size=224, transform=data_transform, download=True)\n",
    "test_loader = data.DataLoader(dataset=test_dataset, batch_size=64, shuffle=False)\n",
    "\n",
    "\n",
    "def test(data_loader):\n",
    "    model.eval()\n",
    "\n",
    "    correct = 0\n",
    "    total = 0\n",
    "\n",
    "    with torch.no_grad():\n",
    "        for inputs, targets in data_loader:\n",
    "            inputs = inputs.to(device)\n",
    "            targets = targets.to(device)\n",
    "            targets = targets.squeeze()\n",
    "            outputs = model(inputs)\n",
    "            _, predictions = torch.max(outputs.data, 1)\n",
    "            total += targets.size(0)\n",
    "            correct += (predictions == targets).sum().item()\n",
    "\n",
    "    return 100 * correct / total\n",
    "\n",
    "print(f\"Test accuracy: {test(test_loader):.2f}\")\n",
    "\n"
   ]
  }
 ],
 "metadata": {
  "kernelspec": {
   "display_name": "venv",
   "language": "python",
   "name": "python3"
  },
  "language_info": {
   "codemirror_mode": {
    "name": "ipython",
    "version": 3
   },
   "file_extension": ".py",
   "mimetype": "text/x-python",
   "name": "python",
   "nbconvert_exporter": "python",
   "pygments_lexer": "ipython3",
   "version": "3.11.9"
  }
 },
 "nbformat": 4,
 "nbformat_minor": 2
}
